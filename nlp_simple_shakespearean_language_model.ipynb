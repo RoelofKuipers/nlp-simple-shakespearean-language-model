{
  "nbformat": 4,
  "nbformat_minor": 0,
  "metadata": {
    "colab": {
      "name": "nlp-simple-shakespearean-language-model",
      "provenance": [],
      "authorship_tag": "ABX9TyPMk9mAiwhEfrWxUvjw62MA"
    },
    "kernelspec": {
      "name": "python3",
      "display_name": "Python 3"
    },
    "language_info": {
      "name": "python"
    },
    "accelerator": "GPU"
  },
  "cells": [
    {
      "cell_type": "markdown",
      "metadata": {
        "id": "OMvuTrsmJ3UK"
      },
      "source": [
        "# NLP - Simple Shakespearean Language Model\n",
        "\n",
        "In this notebook we will create a simple Shakespearean language model using Tensorflow. We will then generate our own Shakespearean poem using the seed text 'Roelof thinks about food'. This notebook is based on the 'DeepLearning.AI TensorFlow Developer Professional Certificate' specialization on Coursera.\n",
        "\n",
        "This notebook will have the following structure:\n",
        "1. Load & explore the data\n",
        "2. Preprocess the data\n",
        "3. Define & compile the model\n",
        "4. Train the model\n",
        "5. Evaluate the model"
      ]
    },
    {
      "cell_type": "markdown",
      "metadata": {
        "id": "u7tS7_t_4zis"
      },
      "source": [
        "## 1. Load and explore the data\n",
        "\n",
        "Import libraries"
      ]
    },
    {
      "cell_type": "code",
      "metadata": {
        "id": "HpozDwWmJ6dw"
      },
      "source": [
        "from tensorflow.keras.preprocessing.sequence import pad_sequences\n",
        "from tensorflow.keras.layers import Embedding, LSTM, Dense, Dropout, Bidirectional\n",
        "from tensorflow.keras.preprocessing.text import Tokenizer\n",
        "from tensorflow.keras.models import Sequential\n",
        "from tensorflow.keras.optimizers import Adam\n",
        "from tensorflow.keras import regularizers\n",
        "import tensorflow.keras.utils as ku \n",
        "import numpy as np"
      ],
      "execution_count": 1,
      "outputs": []
    },
    {
      "cell_type": "markdown",
      "metadata": {
        "id": "oDQEW1c-43VT"
      },
      "source": [
        "### Load the data\n",
        "Download the data and create the corpus of text. We split on '\\n'."
      ]
    },
    {
      "cell_type": "code",
      "metadata": {
        "colab": {
          "base_uri": "https://localhost:8080/"
        },
        "id": "Pjni41bb4-mA",
        "outputId": "ec25a5f6-75ff-47e9-b59b-270881dcd42d"
      },
      "source": [
        "!wget --no-check-certificate \\\n",
        "    https://storage.googleapis.com/laurencemoroney-blog.appspot.com/sonnets.txt \\\n",
        "    -O /tmp/sonnets.txt\n",
        "data = open('/tmp/sonnets.txt').read()\n",
        "\n",
        "corpus = data.lower().split(\"\\n\")"
      ],
      "execution_count": 2,
      "outputs": [
        {
          "output_type": "stream",
          "name": "stdout",
          "text": [
            "--2021-09-14 10:39:42--  https://storage.googleapis.com/laurencemoroney-blog.appspot.com/sonnets.txt\n",
            "Resolving storage.googleapis.com (storage.googleapis.com)... 64.233.191.128, 173.194.74.128, 209.85.147.128, ...\n",
            "Connecting to storage.googleapis.com (storage.googleapis.com)|64.233.191.128|:443... connected.\n",
            "HTTP request sent, awaiting response... 200 OK\n",
            "Length: 93578 (91K) [text/plain]\n",
            "Saving to: ‘/tmp/sonnets.txt’\n",
            "\n",
            "\r/tmp/sonnets.txt      0%[                    ]       0  --.-KB/s               \r/tmp/sonnets.txt    100%[===================>]  91.38K  --.-KB/s    in 0.002s  \n",
            "\n",
            "2021-09-14 10:39:42 (55.2 MB/s) - ‘/tmp/sonnets.txt’ saved [93578/93578]\n",
            "\n"
          ]
        }
      ]
    },
    {
      "cell_type": "code",
      "metadata": {
        "colab": {
          "base_uri": "https://localhost:8080/"
        },
        "id": "5npsxzHZ5Au5",
        "outputId": "6d226de6-0cd2-49cb-a390-e4b1b100e992"
      },
      "source": [
        "print('the first sentence:', corpus[0] )\n",
        "print('we have in total', len(corpus), 'sentences.')"
      ],
      "execution_count": 7,
      "outputs": [
        {
          "output_type": "stream",
          "name": "stdout",
          "text": [
            "the first sentence: from fairest creatures we desire increase,\n",
            "we have in total 2159 sentences.\n"
          ]
        }
      ]
    },
    {
      "cell_type": "markdown",
      "metadata": {
        "id": "_ZpqbBFw5c6A"
      },
      "source": [
        "## 2. Preprocess the data\n",
        "\n",
        "We will tokenize each sentence. Then we will cut each sentence so we can predict the next word from the previous word.\n",
        "\n",
        "For example, 'hello I am Roelof', will then become a (tokenized) sentence 'hello' and we will predict the next word (label) 'I', a sentence 'hello I' and we want to predict 'am', and 'hello I am' with label 'Roelof'.  "
      ]
    },
    {
      "cell_type": "code",
      "metadata": {
        "id": "U9qBSEcT08yR"
      },
      "source": [
        "\n",
        "# create the tokenizer\n",
        "tokenizer = Tokenizer()\n",
        "tokenizer.fit_on_texts(corpus)\n",
        "total_words = len(tokenizer.word_index) + 1  # we use all the words in the text as our vocab length\n",
        "\n",
        "# create input sequences using list of tokens\n",
        "input_sequences = []   \n",
        "for line in corpus:\n",
        "\ttoken_list = tokenizer.texts_to_sequences([line])[0]  # every line in the text to a tokenized sequence (list of tokens)\n",
        "\tfor i in range(1, len(token_list)):  # then we cut up each tokenized sentenced into pieces so we can learn the next word in each sentence\n",
        "\t\tn_gram_sequence = token_list[:i+1]\n",
        "\t\tinput_sequences.append(n_gram_sequence)\n",
        "\n",
        "\n",
        "# pad sequences \n",
        "max_sequence_len = max([len(x) for x in input_sequences])\n",
        "input_sequences = np.array(pad_sequences(input_sequences, maxlen=max_sequence_len, padding='pre'))\n",
        "\n",
        "# create predictors and label\n",
        "xs, label = input_sequences[:,:-1],input_sequences[:,-1]\n",
        "\n",
        "ys = ku.to_categorical(label, num_classes=total_words) "
      ],
      "execution_count": 10,
      "outputs": []
    },
    {
      "cell_type": "code",
      "metadata": {
        "colab": {
          "base_uri": "https://localhost:8080/"
        },
        "id": "uT5MExQ46NKu",
        "outputId": "18da2898-2010-4b1b-8195-b39637fd8242"
      },
      "source": [
        "print(corpus[0])"
      ],
      "execution_count": null,
      "outputs": [
        {
          "output_type": "stream",
          "name": "stdout",
          "text": [
            "from fairest creatures we desire increase,\n"
          ]
        }
      ]
    },
    {
      "cell_type": "code",
      "metadata": {
        "colab": {
          "base_uri": "https://localhost:8080/"
        },
        "id": "EkLOQmYM6Yts",
        "outputId": "c6f7ffe7-1bd0-44b6-de04-966d678bb190"
      },
      "source": [
        "print(tokenizer.word_index['from'])\n",
        "print(tokenizer.word_index['fairest'])\n",
        "print(tokenizer.word_index['creatures'])\n",
        "print(tokenizer.word_index['we'])\n",
        "print(tokenizer.word_index['desire'])"
      ],
      "execution_count": null,
      "outputs": [
        {
          "output_type": "stream",
          "name": "stdout",
          "text": [
            "34\n",
            "417\n",
            "877\n",
            "166\n",
            "213\n"
          ]
        }
      ]
    },
    {
      "cell_type": "code",
      "metadata": {
        "colab": {
          "base_uri": "https://localhost:8080/"
        },
        "id": "jxwTFexD6kKl",
        "outputId": "719d4d6f-6192-46b0-ff79-ea63f7da98e7"
      },
      "source": [
        "print(xs[0])\n",
        "print(xs[1])\n",
        "print(xs[2])"
      ],
      "execution_count": null,
      "outputs": [
        {
          "output_type": "stream",
          "name": "stdout",
          "text": [
            "[ 0  0  0  0  0  0  0  0  0 34]\n",
            "[  0   0   0   0   0   0   0   0  34 417]\n",
            "[  0   0   0   0   0   0   0  34 417 877]\n"
          ]
        }
      ]
    },
    {
      "cell_type": "code",
      "metadata": {
        "colab": {
          "base_uri": "https://localhost:8080/"
        },
        "id": "OcNb32V-6-iE",
        "outputId": "0731246e-2bd3-461f-fee5-b4254ce60a23"
      },
      "source": [
        "print(label[1])"
      ],
      "execution_count": null,
      "outputs": [
        {
          "output_type": "stream",
          "name": "stdout",
          "text": [
            "877\n"
          ]
        }
      ]
    },
    {
      "cell_type": "code",
      "metadata": {
        "colab": {
          "base_uri": "https://localhost:8080/"
        },
        "id": "P2rkEg496s7q",
        "outputId": "d4139811-6374-451f-97a9-66035e3301bc"
      },
      "source": [
        "print(ys[1])"
      ],
      "execution_count": null,
      "outputs": [
        {
          "output_type": "stream",
          "name": "stdout",
          "text": [
            "[0. 0. 0. ... 0. 0. 0.]\n"
          ]
        }
      ]
    },
    {
      "cell_type": "code",
      "metadata": {
        "colab": {
          "base_uri": "https://localhost:8080/"
        },
        "id": "ON48Krom6zna",
        "outputId": "c5f74bda-79b2-4c10-e480-e682b8cd7ce2"
      },
      "source": [
        "print(xs[5])\n",
        "print(ys[5])"
      ],
      "execution_count": null,
      "outputs": [
        {
          "output_type": "stream",
          "name": "stdout",
          "text": [
            "[0 0 0 0 0 0 0 0 0 8]\n",
            "[0. 0. 0. ... 0. 0. 0.]\n"
          ]
        }
      ]
    },
    {
      "cell_type": "code",
      "metadata": {
        "id": "szgp3S_K7Sk1"
      },
      "source": [
        "#print(tokenizer.word_index)"
      ],
      "execution_count": 13,
      "outputs": []
    },
    {
      "cell_type": "markdown",
      "metadata": {
        "id": "u15LU5EI6UnG"
      },
      "source": [
        " ## 3. Define & compile the model\n",
        " We use the maximum sequence length - 1 (the label we predict) as our input length, and the amount of words in our corpus as vocab size. That is why the only hyper parameter is the embedding dimension."
      ]
    },
    {
      "cell_type": "code",
      "metadata": {
        "id": "njXHntqj6Zsh"
      },
      "source": [
        "# Hyperparameters\n",
        "embedding_dim = 100"
      ],
      "execution_count": 11,
      "outputs": []
    },
    {
      "cell_type": "code",
      "metadata": {
        "colab": {
          "base_uri": "https://localhost:8080/"
        },
        "id": "DOv4Y2P11YQI",
        "outputId": "b8eaa530-f2d5-4d4a-f684-80d6006cd6ad"
      },
      "source": [
        "model = Sequential()\n",
        "model.add(Embedding(total_words, embedding_dim, input_length=max_sequence_len-1))\n",
        "model.add(Bidirectional(LSTM(150, return_sequences = True)))\n",
        "model.add(Dropout(0.2))\n",
        "model.add(LSTM(100))\n",
        "model.add(Dense(total_words/2, activation='relu', kernel_regularizer=regularizers.l2(0.01)))\n",
        "model.add(Dense(total_words, activation='softmax'))\n",
        "model.compile(loss='categorical_crossentropy', optimizer='adam', metrics=['accuracy'])\n",
        "print(model.summary())"
      ],
      "execution_count": 12,
      "outputs": [
        {
          "output_type": "stream",
          "name": "stdout",
          "text": [
            "Model: \"sequential_1\"\n",
            "_________________________________________________________________\n",
            "Layer (type)                 Output Shape              Param #   \n",
            "=================================================================\n",
            "embedding (Embedding)        (None, 10, 100)           321100    \n",
            "_________________________________________________________________\n",
            "bidirectional (Bidirectional (None, 10, 300)           301200    \n",
            "_________________________________________________________________\n",
            "dropout (Dropout)            (None, 10, 300)           0         \n",
            "_________________________________________________________________\n",
            "lstm_1 (LSTM)                (None, 100)               160400    \n",
            "_________________________________________________________________\n",
            "dense (Dense)                (None, 1605)              162105    \n",
            "_________________________________________________________________\n",
            "dense_1 (Dense)              (None, 3211)              5156866   \n",
            "=================================================================\n",
            "Total params: 6,101,671\n",
            "Trainable params: 6,101,671\n",
            "Non-trainable params: 0\n",
            "_________________________________________________________________\n",
            "None\n"
          ]
        }
      ]
    },
    {
      "cell_type": "markdown",
      "metadata": {
        "id": "1c_F44oc6yg_"
      },
      "source": [
        "## 4. Train the model"
      ]
    },
    {
      "cell_type": "code",
      "metadata": {
        "colab": {
          "base_uri": "https://localhost:8080/"
        },
        "id": "c02jU1-IA9fv",
        "outputId": "95a81846-9c94-4362-9f2a-7d3cb61e8da9"
      },
      "source": [
        "num_epochs = 100 \n",
        "history = model.fit(xs, ys, epochs=num_epochs, verbose=1)"
      ],
      "execution_count": null,
      "outputs": [
        {
          "output_type": "stream",
          "name": "stdout",
          "text": [
            "Epoch 1/100\n",
            "484/484 [==============================] - 16s 24ms/step - loss: 6.9019 - accuracy: 0.0239\n",
            "Epoch 2/100\n",
            "484/484 [==============================] - 11s 23ms/step - loss: 6.4987 - accuracy: 0.0215\n",
            "Epoch 3/100\n",
            "484/484 [==============================] - 11s 23ms/step - loss: 6.4046 - accuracy: 0.0237\n",
            "Epoch 4/100\n",
            "484/484 [==============================] - 11s 23ms/step - loss: 6.2772 - accuracy: 0.0277\n",
            "Epoch 5/100\n",
            "484/484 [==============================] - 11s 23ms/step - loss: 6.1773 - accuracy: 0.0357\n",
            "Epoch 6/100\n",
            "484/484 [==============================] - 11s 23ms/step - loss: 6.0909 - accuracy: 0.0382\n",
            "Epoch 7/100\n",
            "484/484 [==============================] - 11s 23ms/step - loss: 6.0069 - accuracy: 0.0415\n",
            "Epoch 8/100\n",
            "484/484 [==============================] - 11s 23ms/step - loss: 5.9219 - accuracy: 0.0448\n",
            "Epoch 9/100\n",
            "484/484 [==============================] - 11s 23ms/step - loss: 5.8168 - accuracy: 0.0534\n",
            "Epoch 10/100\n",
            "484/484 [==============================] - 11s 23ms/step - loss: 5.7116 - accuracy: 0.0607\n",
            "Epoch 11/100\n",
            "484/484 [==============================] - 11s 23ms/step - loss: 5.6020 - accuracy: 0.0636\n",
            "Epoch 12/100\n",
            "484/484 [==============================] - 11s 23ms/step - loss: 5.4987 - accuracy: 0.0695\n",
            "Epoch 13/100\n",
            "484/484 [==============================] - 11s 23ms/step - loss: 5.3890 - accuracy: 0.0774\n",
            "Epoch 14/100\n",
            "484/484 [==============================] - 11s 23ms/step - loss: 5.2841 - accuracy: 0.0845\n",
            "Epoch 15/100\n",
            "484/484 [==============================] - 11s 23ms/step - loss: 5.1835 - accuracy: 0.0893\n",
            "Epoch 16/100\n",
            "484/484 [==============================] - 11s 23ms/step - loss: 5.0772 - accuracy: 0.0997\n",
            "Epoch 17/100\n",
            "484/484 [==============================] - 11s 23ms/step - loss: 4.9763 - accuracy: 0.1044\n",
            "Epoch 18/100\n",
            "484/484 [==============================] - 11s 23ms/step - loss: 4.8780 - accuracy: 0.1132\n",
            "Epoch 19/100\n",
            "484/484 [==============================] - 11s 23ms/step - loss: 4.7806 - accuracy: 0.1234\n",
            "Epoch 20/100\n",
            "484/484 [==============================] - 11s 23ms/step - loss: 4.6829 - accuracy: 0.1285\n",
            "Epoch 21/100\n",
            "484/484 [==============================] - 11s 23ms/step - loss: 4.5796 - accuracy: 0.1395\n",
            "Epoch 22/100\n",
            "484/484 [==============================] - 11s 23ms/step - loss: 4.4856 - accuracy: 0.1506\n",
            "Epoch 23/100\n",
            "484/484 [==============================] - 11s 23ms/step - loss: 4.3856 - accuracy: 0.1571\n",
            "Epoch 24/100\n",
            "484/484 [==============================] - 11s 23ms/step - loss: 4.2935 - accuracy: 0.1707\n",
            "Epoch 25/100\n",
            "484/484 [==============================] - 11s 22ms/step - loss: 4.1983 - accuracy: 0.1815\n",
            "Epoch 26/100\n",
            "484/484 [==============================] - 11s 22ms/step - loss: 4.1024 - accuracy: 0.1973\n",
            "Epoch 27/100\n",
            "484/484 [==============================] - 11s 22ms/step - loss: 4.0158 - accuracy: 0.2051\n",
            "Epoch 28/100\n",
            "484/484 [==============================] - 11s 22ms/step - loss: 3.9109 - accuracy: 0.2234\n",
            "Epoch 29/100\n",
            "484/484 [==============================] - 11s 22ms/step - loss: 3.8293 - accuracy: 0.2357\n",
            "Epoch 30/100\n",
            "484/484 [==============================] - 11s 22ms/step - loss: 3.7320 - accuracy: 0.2548\n",
            "Epoch 31/100\n",
            "484/484 [==============================] - 11s 23ms/step - loss: 3.6541 - accuracy: 0.2701\n",
            "Epoch 32/100\n",
            "484/484 [==============================] - 11s 23ms/step - loss: 3.5729 - accuracy: 0.2845\n",
            "Epoch 33/100\n",
            "484/484 [==============================] - 11s 22ms/step - loss: 3.4851 - accuracy: 0.3014\n",
            "Epoch 34/100\n",
            "484/484 [==============================] - 11s 23ms/step - loss: 3.3921 - accuracy: 0.3273\n",
            "Epoch 35/100\n",
            "484/484 [==============================] - 11s 23ms/step - loss: 3.3271 - accuracy: 0.3383\n",
            "Epoch 36/100\n",
            "484/484 [==============================] - 11s 22ms/step - loss: 3.2453 - accuracy: 0.3547\n",
            "Epoch 37/100\n",
            "484/484 [==============================] - 11s 23ms/step - loss: 3.1726 - accuracy: 0.3706\n",
            "Epoch 38/100\n",
            "484/484 [==============================] - 11s 23ms/step - loss: 3.1092 - accuracy: 0.3840\n",
            "Epoch 39/100\n",
            "484/484 [==============================] - 11s 22ms/step - loss: 3.0429 - accuracy: 0.4010\n",
            "Epoch 40/100\n",
            "484/484 [==============================] - 11s 23ms/step - loss: 2.9570 - accuracy: 0.4198\n",
            "Epoch 41/100\n",
            "484/484 [==============================] - 11s 23ms/step - loss: 2.9135 - accuracy: 0.4241\n",
            "Epoch 42/100\n",
            "484/484 [==============================] - 11s 23ms/step - loss: 2.8359 - accuracy: 0.4463\n",
            "Epoch 43/100\n",
            "484/484 [==============================] - 11s 23ms/step - loss: 2.7735 - accuracy: 0.4592\n",
            "Epoch 44/100\n",
            "484/484 [==============================] - 11s 23ms/step - loss: 2.7153 - accuracy: 0.4740\n",
            "Epoch 45/100\n",
            "484/484 [==============================] - 11s 22ms/step - loss: 2.6635 - accuracy: 0.4820\n",
            "Epoch 46/100\n",
            "484/484 [==============================] - 11s 23ms/step - loss: 2.6187 - accuracy: 0.4937\n",
            "Epoch 47/100\n",
            "484/484 [==============================] - 11s 22ms/step - loss: 2.5432 - accuracy: 0.5136\n",
            "Epoch 48/100\n",
            "484/484 [==============================] - 11s 23ms/step - loss: 2.4941 - accuracy: 0.5268\n",
            "Epoch 49/100\n",
            "484/484 [==============================] - 11s 22ms/step - loss: 2.4544 - accuracy: 0.5341\n",
            "Epoch 50/100\n",
            "484/484 [==============================] - 11s 23ms/step - loss: 2.4098 - accuracy: 0.5420\n",
            "Epoch 51/100\n",
            "484/484 [==============================] - 11s 23ms/step - loss: 2.3643 - accuracy: 0.5533\n",
            "Epoch 52/100\n",
            "484/484 [==============================] - 11s 23ms/step - loss: 2.3088 - accuracy: 0.5640\n",
            "Epoch 53/100\n",
            "484/484 [==============================] - 11s 23ms/step - loss: 2.2745 - accuracy: 0.5703\n",
            "Epoch 54/100\n",
            "484/484 [==============================] - 11s 23ms/step - loss: 2.2223 - accuracy: 0.5860\n",
            "Epoch 55/100\n",
            "484/484 [==============================] - 11s 22ms/step - loss: 2.1939 - accuracy: 0.5880\n",
            "Epoch 56/100\n",
            "484/484 [==============================] - 11s 22ms/step - loss: 2.1481 - accuracy: 0.5994\n",
            "Epoch 57/100\n",
            "484/484 [==============================] - 11s 22ms/step - loss: 2.1095 - accuracy: 0.6114\n",
            "Epoch 58/100\n",
            "484/484 [==============================] - 11s 22ms/step - loss: 2.0697 - accuracy: 0.6167\n",
            "Epoch 59/100\n",
            "484/484 [==============================] - 11s 22ms/step - loss: 2.0256 - accuracy: 0.6296\n",
            "Epoch 60/100\n",
            "484/484 [==============================] - 11s 22ms/step - loss: 1.9988 - accuracy: 0.6372\n",
            "Epoch 61/100\n",
            "484/484 [==============================] - 11s 22ms/step - loss: 1.9741 - accuracy: 0.6401\n",
            "Epoch 62/100\n",
            "484/484 [==============================] - 11s 22ms/step - loss: 1.9337 - accuracy: 0.6491\n",
            "Epoch 63/100\n",
            "484/484 [==============================] - 11s 22ms/step - loss: 1.8920 - accuracy: 0.6617\n",
            "Epoch 64/100\n",
            "484/484 [==============================] - 11s 22ms/step - loss: 1.8600 - accuracy: 0.6650\n",
            "Epoch 65/100\n",
            "484/484 [==============================] - 11s 22ms/step - loss: 1.8442 - accuracy: 0.6673\n",
            "Epoch 66/100\n",
            "484/484 [==============================] - 11s 22ms/step - loss: 1.8053 - accuracy: 0.6790\n",
            "Epoch 67/100\n",
            "484/484 [==============================] - 11s 22ms/step - loss: 1.7606 - accuracy: 0.6914\n",
            "Epoch 68/100\n",
            "484/484 [==============================] - 11s 22ms/step - loss: 1.7541 - accuracy: 0.6898\n",
            "Epoch 69/100\n",
            "484/484 [==============================] - 11s 22ms/step - loss: 1.7210 - accuracy: 0.6957\n",
            "Epoch 70/100\n",
            "484/484 [==============================] - 11s 22ms/step - loss: 1.7000 - accuracy: 0.6975\n",
            "Epoch 71/100\n",
            "484/484 [==============================] - 11s 22ms/step - loss: 1.6687 - accuracy: 0.7075\n",
            "Epoch 72/100\n",
            "484/484 [==============================] - 11s 22ms/step - loss: 1.6455 - accuracy: 0.7108\n",
            "Epoch 73/100\n",
            "484/484 [==============================] - 11s 22ms/step - loss: 1.6242 - accuracy: 0.7150\n",
            "Epoch 74/100\n",
            "484/484 [==============================] - 11s 22ms/step - loss: 1.5949 - accuracy: 0.7207\n",
            "Epoch 75/100\n",
            "484/484 [==============================] - 11s 22ms/step - loss: 1.6096 - accuracy: 0.7154\n",
            "Epoch 76/100\n",
            "484/484 [==============================] - 11s 22ms/step - loss: 1.5624 - accuracy: 0.7276\n",
            "Epoch 77/100\n",
            "484/484 [==============================] - 11s 22ms/step - loss: 1.5504 - accuracy: 0.7260\n",
            "Epoch 78/100\n",
            "484/484 [==============================] - 11s 22ms/step - loss: 1.5147 - accuracy: 0.7407\n",
            "Epoch 79/100\n",
            "484/484 [==============================] - 11s 22ms/step - loss: 1.4923 - accuracy: 0.7397\n",
            "Epoch 80/100\n",
            "484/484 [==============================] - 11s 22ms/step - loss: 1.4710 - accuracy: 0.7477\n",
            "Epoch 81/100\n",
            "484/484 [==============================] - 11s 22ms/step - loss: 1.4574 - accuracy: 0.7464\n",
            "Epoch 82/100\n",
            "484/484 [==============================] - 11s 22ms/step - loss: 1.4509 - accuracy: 0.7495\n",
            "Epoch 83/100\n",
            "484/484 [==============================] - 11s 22ms/step - loss: 1.4338 - accuracy: 0.7512\n",
            "Epoch 84/100\n",
            "484/484 [==============================] - 11s 22ms/step - loss: 1.4190 - accuracy: 0.7520\n",
            "Epoch 85/100\n",
            "484/484 [==============================] - 11s 22ms/step - loss: 1.4022 - accuracy: 0.7571\n",
            "Epoch 86/100\n",
            "484/484 [==============================] - 11s 22ms/step - loss: 1.3753 - accuracy: 0.7631\n",
            "Epoch 87/100\n",
            "484/484 [==============================] - 11s 22ms/step - loss: 1.3512 - accuracy: 0.7657\n",
            "Epoch 88/100\n",
            "484/484 [==============================] - 11s 22ms/step - loss: 1.3395 - accuracy: 0.7728\n",
            "Epoch 89/100\n",
            "484/484 [==============================] - 11s 22ms/step - loss: 1.3357 - accuracy: 0.7700\n",
            "Epoch 90/100\n",
            "484/484 [==============================] - 11s 22ms/step - loss: 1.3213 - accuracy: 0.7711\n",
            "Epoch 91/100\n",
            "484/484 [==============================] - 11s 22ms/step - loss: 1.3147 - accuracy: 0.7711\n",
            "Epoch 92/100\n",
            "484/484 [==============================] - 11s 22ms/step - loss: 1.2993 - accuracy: 0.7751\n",
            "Epoch 93/100\n",
            "484/484 [==============================] - 11s 22ms/step - loss: 1.2755 - accuracy: 0.7798\n",
            "Epoch 94/100\n",
            "484/484 [==============================] - 11s 22ms/step - loss: 1.2773 - accuracy: 0.7775\n",
            "Epoch 95/100\n",
            "484/484 [==============================] - 11s 22ms/step - loss: 1.2527 - accuracy: 0.7848\n",
            "Epoch 96/100\n",
            "484/484 [==============================] - 11s 22ms/step - loss: 1.2468 - accuracy: 0.7844\n",
            "Epoch 97/100\n",
            "484/484 [==============================] - 11s 22ms/step - loss: 1.2225 - accuracy: 0.7884\n",
            "Epoch 98/100\n",
            "484/484 [==============================] - 11s 22ms/step - loss: 1.2224 - accuracy: 0.7908\n",
            "Epoch 99/100\n",
            "484/484 [==============================] - 11s 22ms/step - loss: 1.2074 - accuracy: 0.7908\n",
            "Epoch 100/100\n",
            "484/484 [==============================] - 11s 22ms/step - loss: 1.2020 - accuracy: 0.7918\n"
          ]
        }
      ]
    },
    {
      "cell_type": "markdown",
      "metadata": {
        "id": "MCkYPPRE6-0o"
      },
      "source": [
        "## 5. Evaluate the model"
      ]
    },
    {
      "cell_type": "code",
      "metadata": {
        "colab": {
          "base_uri": "https://localhost:8080/",
          "height": 545
        },
        "id": "WJ9PR-xH1bdc",
        "outputId": "18ceab78-5129-4f9e-a21d-dbdadd7d2cd6"
      },
      "source": [
        "\n",
        "import matplotlib.pyplot as plt\n",
        "acc = history.history['accuracy']\n",
        "loss = history.history['loss']\n",
        "\n",
        "epochs = range(len(acc))\n",
        "\n",
        "plt.plot(epochs, acc, 'b', label='Training accuracy')\n",
        "plt.title('Training accuracy')\n",
        "\n",
        "plt.figure()\n",
        "\n",
        "plt.plot(epochs, loss, 'b', label='Training Loss')\n",
        "plt.title('Training loss')\n",
        "plt.legend()\n",
        "\n",
        "plt.show()"
      ],
      "execution_count": null,
      "outputs": [
        {
          "output_type": "display_data",
          "data": {
            "image/png": "[encoded data removed]",
            "text/plain": [
              "<Figure size 432x288 with 1 Axes>"
            ]
          },
          "metadata": {
            "needs_background": "light"
          }
        },
        {
          "output_type": "display_data",
          "data": {
            "image/png": "[encoded data removed]",
            "text/plain": [
              "<Figure size 432x288 with 1 Axes>"
            ]
          },
          "metadata": {
            "needs_background": "light"
          }
        }
      ]
    },
    {
      "cell_type": "markdown",
      "metadata": {
        "id": "HGXKU7VM7BxH"
      },
      "source": [
        "Create a Shakespearean poem using some seed text. "
      ]
    },
    {
      "cell_type": "code",
      "metadata": {
        "colab": {
          "base_uri": "https://localhost:8080/"
        },
        "id": "QIpe1O2S2r6J",
        "outputId": "0c2d3e16-b1ac-49e0-93aa-51aed2ac7bfc"
      },
      "source": [
        "seed_text = \"Roelof thinks about food\"\n",
        "next_words = 50\n",
        "  \n",
        "for _ in range(next_words):\n",
        "  token_list = tokenizer.texts_to_sequences([seed_text])[0]\n",
        "  token_list = pad_sequences([token_list], maxlen=max_sequence_len-1, padding='pre')\n",
        "  predict_x = model.predict(token_list, verbose=0)\n",
        "  classes_x=np.argmax(predict_x,axis=1)\n",
        "  output_word = \"\"\n",
        "  for word, index in tokenizer.word_index.items():\n",
        "    if index == classes_x:\n",
        "      output_word = word\n",
        "      break\n",
        "  seed_text += \" \" + output_word\n",
        "print(seed_text)"
      ],
      "execution_count": null,
      "outputs": [
        {
          "output_type": "stream",
          "name": "stdout",
          "text": [
            "Roelof thinks about food to brave thy service to despise drink up love's scope survey brow pluck me twain woe held report race open sound that power by short or wrinkles love's gentle memory part open sea me joy hence told on them of thee be alone slide write me was my good thing\n"
          ]
        }
      ]
    },
    {
      "cell_type": "code",
      "metadata": {
        "id": "-cRb5SDQ2yII"
      },
      "source": [
        ""
      ],
      "execution_count": null,
      "outputs": []
    }
  ]
}